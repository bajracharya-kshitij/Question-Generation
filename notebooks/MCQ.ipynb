{
 "cells": [
  {
   "cell_type": "code",
   "execution_count": 1,
   "metadata": {},
   "outputs": [],
   "source": [
    "import numpy as np\n",
    "import pandas as pd"
   ]
  },
  {
   "cell_type": "markdown",
   "metadata": {},
   "source": [
    "## Words"
   ]
  },
  {
   "cell_type": "code",
   "execution_count": 2,
   "metadata": {},
   "outputs": [],
   "source": [
    "import spacy\n",
    "\n",
    "nlp = spacy.load('en_core_web_sm')\n",
    "\n",
    "def addWordsForNewParagraph(newWords, text):\n",
    "    doc = nlp(text)\n",
    "\n",
    "    neStarts = getNEStartIndexes(doc)\n",
    "    sentenceStarts = getSentenceStartIndexes(doc)\n",
    "    \n",
    "    i = 0\n",
    "    \n",
    "    while(i<len(doc)):\n",
    "        #If the token is a start of a Named Entity, add it and push to index to end of the NE\n",
    "        if (i in neStarts):\n",
    "            word = neStarts[i]\n",
    "            currentSentence = getSentenceForWordPosition(word.start, sentenceStarts)\n",
    "            wordLength = word.end - word.start\n",
    "            shape = ''\n",
    "            for wordIndex in range(word.start, word.end):\n",
    "                shape += (' ' + doc[wordIndex].shape_)\n",
    "                \n",
    "            newWords.append([word.text, 0, 0, currentSentence, wordLength, word.label_, None, None, None, shape])\n",
    "            \n",
    "            i = neStarts[i].end - 1\n",
    "        else:\n",
    "            #If not a NE, add the word if it's not a stopword or a non-alpha (not regular letters)\n",
    "            if (doc[i].is_stop == False and doc[i].is_alpha == True):\n",
    "                word = doc[i]\n",
    "                currentSentence = getSentenceForWordPosition(i, sentenceStarts)\n",
    "                wordLength = 1\n",
    "                newWords.append([word.text, 0, 0, currentSentence, wordLength, None, word.pos_, word.tag_, word.dep_, word.shape_])\n",
    "        i += 1\n",
    "\n",
    "def addWordsForParagraph(df, newWords, titleId, paragraphId):\n",
    "    text = df['data'][titleId]['paragraphs'][paragraphId]['context']\n",
    "    qas = df['data'][titleId]['paragraphs'][paragraphId]['qas']\n",
    "    \n",
    "    doc = nlp(text)\n",
    "    \n",
    "    answers = extractAnswers(qas, doc)\n",
    "    neStarts = getNEStartIndexes(doc)\n",
    "    sentenceStarts = getSentenceStartIndexes(doc)\n",
    "    \n",
    "    i = 0\n",
    "    \n",
    "    while(i<len(doc)):\n",
    "        #If the token is a start of a Named Entity, add it and push to index to end of the NE\n",
    "        if (i in neStarts):\n",
    "            word = neStarts[i]\n",
    "            currentSentence = getSentenceForWordPosition(word.start, sentenceStarts)\n",
    "            wordLength = word.end - word.start\n",
    "            shape = ''\n",
    "            for wordIndex in range(word.start, word.end):\n",
    "                shape += (' ' + doc[wordIndex].shape_)\n",
    "                \n",
    "            newWords.append([word.text, tokenIsAnswer(word.text, currentSentence, answers), titleId, paragraphId, currentSentence, wordLength, word.label_, None, None, None, shape])\n",
    "            \n",
    "            i = neStarts[i].end - 1\n",
    "        else:\n",
    "            #If not a NE, add the word if it's not a stopword or a non-alpha (not regular letters)\n",
    "            if (doc[i].is_stop == False and doc[i].is_alpha == True):\n",
    "                word = doc[i]\n",
    "                currentSentence = getSentenceForWordPosition(i, sentenceStarts)\n",
    "                wordLength = 1\n",
    "                newWords.append([word.text, tokenIsAnswer(word.text, currentSentence, answers), titleId, paragraphId, currentSentence, wordLength, None, word.pos_, word.tag_, word.dep_, word.shape_])\n",
    "        i += 1\n",
    "\n",
    "def getSentenceForWordPosition(wordPos, sentenceStarts):\n",
    "    for i in range(1, len(sentenceStarts)):\n",
    "        if (wordPos < sentenceStarts[i]):\n",
    "            return i - 1\n",
    "\n",
    "def getNEStartIndexes(doc):\n",
    "    neStarts = {}\n",
    "    for ne in doc.ents:\n",
    "        neStarts[ne.start] = ne\n",
    "        \n",
    "    return neStarts\n",
    "\n",
    "def getSentenceStartIndexes(doc):\n",
    "    sentenceStarts = []\n",
    "    \n",
    "    for sentence in doc.sents:\n",
    "        sentenceStarts.append(sentence[0].i)\n",
    "    \n",
    "    return sentenceStarts\n",
    "\n",
    "def extractAnswers(qas, doc):\n",
    "    answers = []\n",
    "    \n",
    "    sentenceStart = 0\n",
    "    sentenceId = 0\n",
    "    \n",
    "    for sentence in doc.sents:\n",
    "        sentenceLength = len(sentence.text)\n",
    "        \n",
    "        for answer in qas:\n",
    "            answerStart = answer['answers'][0]['answer_start']\n",
    "            if (answerStart >= sentenceStart and answerStart < (sentenceStart + sentenceLength)):\n",
    "                answers.append({'sentenceId': sentenceId, 'text': answer['answers'][0]['text']})\n",
    "                \n",
    "        sentenceStart += sentenceLength\n",
    "        sentenceId += 1\n",
    "                    \n",
    "    return answers\n",
    "\n",
    "def tokenIsAnswer(token, sentenceId, answers):\n",
    "    for i in range(len(answers)):\n",
    "        if (answers[i]['sentenceId'] == sentenceId):\n",
    "            if (answers[i]['text'] == token):\n",
    "                return True\n",
    "    return False"
   ]
  },
  {
   "cell_type": "markdown",
   "metadata": {},
   "source": [
    "## Preprocessing"
   ]
  },
  {
   "cell_type": "code",
   "execution_count": 3,
   "metadata": {},
   "outputs": [],
   "source": [
    "# Predict whether a word is a keyword\n",
    "def generateDf(text):\n",
    "    newWords = []\n",
    "    addWordsForNewParagraph(newWords, text)\n",
    "\n",
    "    wordColums = ['text', 'titleId', 'paragraphId', 'sentenceId', 'wordCount', 'NER', 'POS', 'TAG', 'DEP','shape']\n",
    "    df = pd.DataFrame(newWords, columns=wordColums)\n",
    "    return df\n",
    "\n",
    "def prepareDf(df):\n",
    "    wordsDf = encodeAndDropColumns(df)\n",
    "\n",
    "    #Add missing colums \n",
    "    predictorColumns = ['wordCount',\n",
    " 'NER_CARDINAL',\n",
    " 'NER_DATE',\n",
    " 'NER_EVENT',\n",
    " 'NER_FAC',\n",
    " 'NER_GPE',\n",
    " 'NER_LANGUAGE',\n",
    " 'NER_LAW',\n",
    " 'NER_LOC',\n",
    " 'NER_MONEY',\n",
    " 'NER_NORP',\n",
    " 'NER_ORDINAL',\n",
    " 'NER_ORG',\n",
    " 'NER_PERCENT',\n",
    " 'NER_PERSON',\n",
    " 'NER_PRODUCT',\n",
    " 'NER_QUANTITY',\n",
    " 'NER_TIME',\n",
    " 'NER_WORK_OF_ART',\n",
    " 'POS_ADJ',\n",
    " 'POS_ADP',\n",
    " 'POS_ADV',\n",
    " 'POS_CCONJ',\n",
    " 'POS_DET',\n",
    " 'POS_INTJ',\n",
    " 'POS_NOUN',\n",
    " 'POS_NUM',\n",
    " 'POS_PART',\n",
    " 'POS_PRON',\n",
    " 'POS_PROPN',\n",
    " 'POS_PUNCT',\n",
    " 'POS_SCONJ',\n",
    " 'POS_SYM',\n",
    " 'POS_VERB',\n",
    " 'POS_X',\n",
    " \"TAG_''\",\n",
    " 'TAG_,',\n",
    " 'TAG_.',\n",
    " 'TAG_ADD',\n",
    " 'TAG_AFX',\n",
    " 'TAG_CC',\n",
    " 'TAG_CD',\n",
    " 'TAG_DT',\n",
    " 'TAG_EX',\n",
    " 'TAG_FW',\n",
    " 'TAG_IN',\n",
    " 'TAG_JJ',\n",
    " 'TAG_JJR',\n",
    " 'TAG_JJS',\n",
    " 'TAG_LS',\n",
    " 'TAG_MD',\n",
    " 'TAG_NN',\n",
    " 'TAG_NNP',\n",
    " 'TAG_NNPS',\n",
    " 'TAG_NNS',\n",
    " 'TAG_PDT',\n",
    " 'TAG_POS',\n",
    " 'TAG_PRP',\n",
    " 'TAG_PRP$',\n",
    " 'TAG_RB',\n",
    " 'TAG_RBR',\n",
    " 'TAG_RBS',\n",
    " 'TAG_RP',\n",
    " 'TAG_SYM',\n",
    " 'TAG_TO',\n",
    " 'TAG_UH',\n",
    " 'TAG_VB',\n",
    " 'TAG_VBD',\n",
    " 'TAG_VBG',\n",
    " 'TAG_VBN',\n",
    " 'TAG_VBP',\n",
    " 'TAG_VBZ',\n",
    " 'TAG_WDT',\n",
    " 'TAG_WP',\n",
    " 'TAG_WRB',\n",
    " 'TAG_XX',\n",
    " 'DEP_ROOT',\n",
    " 'DEP_acl',\n",
    " 'DEP_acomp',\n",
    " 'DEP_advcl',\n",
    " 'DEP_advmod',\n",
    " 'DEP_agent',\n",
    " 'DEP_amod',\n",
    " 'DEP_appos',\n",
    " 'DEP_attr',\n",
    " 'DEP_aux',\n",
    " 'DEP_auxpass',\n",
    " 'DEP_cc',\n",
    " 'DEP_ccomp',\n",
    " 'DEP_compound',\n",
    " 'DEP_conj',\n",
    " 'DEP_csubj',\n",
    " 'DEP_csubjpass',\n",
    " 'DEP_dative',\n",
    " 'DEP_dep',\n",
    " 'DEP_det',\n",
    " 'DEP_dobj',\n",
    " 'DEP_intj',\n",
    " 'DEP_mark',\n",
    " 'DEP_meta',\n",
    " 'DEP_neg',\n",
    " 'DEP_nmod',\n",
    " 'DEP_npadvmod',\n",
    " 'DEP_nsubj',\n",
    " 'DEP_nsubjpass',\n",
    " 'DEP_nummod',\n",
    " 'DEP_oprd',\n",
    " 'DEP_parataxis',\n",
    " 'DEP_pcomp',\n",
    " 'DEP_pobj',\n",
    " 'DEP_poss',\n",
    " 'DEP_predet',\n",
    " 'DEP_prep',\n",
    " 'DEP_prt',\n",
    " 'DEP_punct',\n",
    " 'DEP_quantmod',\n",
    " 'DEP_relcl',\n",
    " 'DEP_xcomp']\n",
    "\n",
    "    for feature in predictorColumns:\n",
    "        if feature not in wordsDf.columns:\n",
    "            wordsDf[feature] = 0\n",
    "\n",
    "    return wordsDf\n",
    "\n",
    "def oneHotEncodeColumns(df):\n",
    "    columnsToEncode = ['NER', 'POS', \"TAG\", 'DEP']\n",
    "\n",
    "    for column in columnsToEncode:\n",
    "        one_hot = pd.get_dummies(df[column])\n",
    "        one_hot = one_hot.add_prefix(column + '_')\n",
    "\n",
    "        df = df.drop(column, axis = 1)\n",
    "        df = df.join(one_hot)\n",
    "\n",
    "    return df\n",
    "\n",
    "def encodeAndDropColumns(df):\n",
    "    # One hot encoding\n",
    "    wordsDf = oneHotEncodeColumns(df)\n",
    "\n",
    "    #Drop unused columns\n",
    "    columnsToDrop = ['text', 'titleId', 'paragraphId', 'sentenceId', 'shape']\n",
    "    wordsDf = wordsDf.drop(columnsToDrop, axis = 1)\n",
    "\n",
    "    return wordsDf"
   ]
  },
  {
   "cell_type": "markdown",
   "metadata": {},
   "source": [
    "## Predictor"
   ]
  },
  {
   "cell_type": "code",
   "execution_count": 4,
   "metadata": {},
   "outputs": [],
   "source": [
    "import pickle\n",
    "from pathlib import Path\n",
    "\n",
    "def pickle_exists(filename):\n",
    "    file = Path('../models/' + filename + '.pkl')\n",
    "    if file.is_file():\n",
    "        return True\n",
    "    return False\n",
    "\n",
    "def save_model(model, filename):\n",
    "    pickle.dump(model, open('../models/' + filename + '.pkl', 'wb'))\n",
    "    \n",
    "def load_model(filename):\n",
    "    return pickle.load(open('../models/' + filename + '.pkl', 'rb'))\n",
    "\n",
    "def predictWords(wordsDf, df, model):\n",
    "    predictor = load_model(model)\n",
    "\n",
    "    y_pred = predictor.predict(wordsDf)\n",
    "    \n",
    "    labeledAnswers = []\n",
    "    for i in range(len(y_pred)):\n",
    "        labeledAnswers.append({'word': df.iloc[i]['text'], 'prob': y_pred[i]})\n",
    "    \n",
    "    return labeledAnswers"
   ]
  },
  {
   "cell_type": "markdown",
   "metadata": {},
   "source": [
    "## Question Generator"
   ]
  },
  {
   "cell_type": "code",
   "execution_count": 5,
   "metadata": {},
   "outputs": [],
   "source": [
    "def addQuestions(answers, text):\n",
    "    doc = nlp(text)\n",
    "    currentAnswerIndex = 0\n",
    "    qaPair = []\n",
    "\n",
    "    #Check wheter each token is the next answer\n",
    "    for sent in doc.sents:\n",
    "        for token in sent:\n",
    "            \n",
    "            #If all the answers have been found, stop looking\n",
    "            if currentAnswerIndex >= len(answers):\n",
    "                break\n",
    "            \n",
    "            #In the case where the answer is consisted of more than one token, check the following tokens as well.\n",
    "            answerDoc = nlp(answers[currentAnswerIndex]['word'])\n",
    "            answerIsFound = True\n",
    "            \n",
    "            for j in range(len(answerDoc)):\n",
    "                if token.i + j >= len(doc) or doc[token.i + j].text != answerDoc[j].text:\n",
    "                    answerIsFound = False\n",
    "           \n",
    "            #If the current token is corresponding with the answer, add it \n",
    "            if answerIsFound:\n",
    "                question = blankAnswer(token.i, token.i + len(answerDoc) - 1, sent.start, sent.end, doc)\n",
    "                \n",
    "                qaPair.append({'question' : question, 'answer': answers[currentAnswerIndex]['word'], 'prob': answers[currentAnswerIndex]['prob']})\n",
    "                \n",
    "                currentAnswerIndex += 1\n",
    "                \n",
    "    return qaPair\n",
    "\n",
    "\n",
    "def blankAnswer(firstTokenIndex, lastTokenIndex, sentStart, sentEnd, doc):\n",
    "    leftPartStart = doc[sentStart].idx\n",
    "    leftPartEnd = doc[firstTokenIndex].idx\n",
    "    rightPartStart = doc[lastTokenIndex].idx + len(doc[lastTokenIndex])\n",
    "    rightPartEnd = doc[sentEnd - 1].idx + len(doc[sentEnd - 1])\n",
    "    \n",
    "    question = doc.text[leftPartStart:leftPartEnd] + '_____' + doc.text[rightPartStart:rightPartEnd]\n",
    "    \n",
    "    return question\n",
    "\n",
    "def sortAnswers(qaPairs):\n",
    "    orderedQaPairs = sorted(qaPairs, key=lambda qaPair: qaPair['prob'])\n",
    "    return orderedQaPairs"
   ]
  },
  {
   "cell_type": "markdown",
   "metadata": {},
   "source": [
    "## Distractor Generator"
   ]
  },
  {
   "cell_type": "code",
   "execution_count": 6,
   "metadata": {},
   "outputs": [],
   "source": [
    "import gensim\n",
    "from gensim.test.utils import datapath, get_tmpfile\n",
    "from gensim.models import KeyedVectors\n",
    "\n",
    "glove_file = '../data/embeddings/glove.6B.300d.txt'\n",
    "tmp_file = '../data/embeddings/word2vec-glove.6B.300d.txt'\n",
    "\n",
    "from gensim.scripts.glove2word2vec import glove2word2vec\n",
    "glove2word2vec(glove_file, tmp_file)\n",
    "model = KeyedVectors.load_word2vec_format(tmp_file)\n",
    "\n",
    "from nltk.stem import PorterStemmer\n",
    "\n",
    "def generate_distractors(answer, count):\n",
    "    answer = str.lower(answer)\n",
    "\n",
    "    ##Extracting closest words for the answer. \n",
    "    try:\n",
    "        closestWords = model.most_similar(positive=[answer], topn=count)\n",
    "    except:\n",
    "        #In case the word is not in the vocabulary, or other problem not loading embeddings\n",
    "        return []\n",
    "\n",
    "    #Return count many distractors\n",
    "    distractors = list(map(lambda x: x[0], closestWords))\n",
    "    distractors = normalizeDistractors(answer, distractors, count)\n",
    "    return distractors\n",
    "\n",
    "def addDistractors(qaPairs, count):\n",
    "    filteredQAPairs = []\n",
    "    for qaPair in qaPairs:\n",
    "        distractors = generate_distractors(qaPair['answer'], count)\n",
    "        if (len(distractors)>=count):\n",
    "            qaPair['distractors'] = distractors\n",
    "            filteredQAPairs.append(qaPair)\n",
    "    \n",
    "    return filteredQAPairs\n",
    "\n",
    "def normalizeDistractors(answer, distractors, count):\n",
    "    porter = PorterStemmer()\n",
    "    filteredDistractors = []\n",
    "    normalizedDistractors = []\n",
    "    \n",
    "    answerStem = porter.stem(answer)\n",
    "    for distractor in distractors:\n",
    "        distractorStem = porter.stem(distractor)\n",
    "        if ((distractorStem == answerStem) or (distractorStem in normalizedDistractors)):\n",
    "            continue\n",
    "        normalizedDistractors.append(distractorStem)\n",
    "        filteredDistractors.append(distractor)\n",
    "    return filteredDistractors[0:count]"
   ]
  },
  {
   "cell_type": "markdown",
   "metadata": {},
   "source": [
    "## Sentence Ranker"
   ]
  },
  {
   "cell_type": "code",
   "execution_count": 7,
   "metadata": {},
   "outputs": [
    {
     "name": "stderr",
     "output_type": "stream",
     "text": [
      "[nltk_data] Downloading package punkt to\n",
      "[nltk_data]     /Users/kshitijbajracharya/nltk_data...\n",
      "[nltk_data]   Package punkt is already up-to-date!\n",
      "[nltk_data] Downloading package stopwords to\n",
      "[nltk_data]     /Users/kshitijbajracharya/nltk_data...\n",
      "[nltk_data]   Package stopwords is already up-to-date!\n"
     ]
    }
   ],
   "source": [
    "import re\n",
    "import networkx as nx\n",
    "from sklearn.metrics.pairwise import cosine_similarity\n",
    "\n",
    "import nltk\n",
    "from nltk.corpus import stopwords\n",
    "from nltk.tokenize import sent_tokenize\n",
    "nltk.download('punkt')\n",
    "nltk.download('stopwords')\n",
    "\n",
    "stop_words = stopwords.words('english')\n",
    "\n",
    "def rearrangeByRank(text):\n",
    "    sentences = sent_tokenize(text)\n",
    "    ranked_sentences = getRankedSentences(sentences)\n",
    "    rearrangedByRank = []\n",
    "    for sentence in ranked_sentences[:10]:\n",
    "        rearrangedByRank.append(sentence[1])\n",
    "    return ' '.join(rearrangedByRank)\n",
    "\n",
    "def cleanSentences(sentences):\n",
    "    # remove punctuations, numbers and special characters\n",
    "    clean_sentences = pd.Series(sentences).str.replace(\"[^a-zA-Z]\", \" \")\n",
    "\n",
    "    # make alphabets lowercase\n",
    "    clean_sentences = [s.lower() for s in clean_sentences]\n",
    "\n",
    "    return [remove_stopwords(r.split()) for r in clean_sentences]\n",
    "\n",
    "# function to remove stopwords\n",
    "def remove_stopwords(sentence):\n",
    "    sen_new = \" \".join([i for i in sentence if i not in stop_words])\n",
    "    return sen_new\n",
    "\n",
    "\n",
    "def extractWordVectors():\n",
    "    word_embeddings = {}\n",
    "    f = open('../data/embeddings/glove.6B.300d.txt', encoding='utf-8')\n",
    "    for line in f:\n",
    "        values = line.split()\n",
    "        word = values[0]\n",
    "        coefs = np.asarray(values[1:], dtype='float32')\n",
    "        word_embeddings[word] = coefs\n",
    "    f.close()\n",
    "    return word_embeddings\n",
    "\n",
    "def getRankedSentences(sentences):\n",
    "    sim_mat = getSimilarityMatrix(sentences)\n",
    "    nx_graph = nx.from_numpy_array(sim_mat)\n",
    "    scores = nx.pagerank(nx_graph)\n",
    "    return sorted(((scores[i],s) for i,s in enumerate(sentences)), reverse=True)\n",
    "\n",
    "def getSimilarityMatrix(sentences):\n",
    "    clean_sentences = cleanSentences(sentences)\n",
    "    sentence_vectors = getSentenceVectors(clean_sentences)\n",
    "    sim_mat = np.zeros([len(sentences), len(sentences)])\n",
    "    for i in range(len(sentences)):\n",
    "        for j in range(len(sentences)):\n",
    "            if i != j:\n",
    "                sim_mat[i][j] = cosine_similarity(sentence_vectors[i].reshape(1,100), sentence_vectors[j].reshape(1,100))[0,0]\n",
    "    return sim_mat\n",
    "\n",
    "def getSentenceVectors(clean_sentences):\n",
    "    word_embeddings = extractWordVectors()\n",
    "    sentence_vectors = []\n",
    "    for i in clean_sentences:\n",
    "        if len(i) != 0:\n",
    "            v = sum([word_embeddings.get(w, np.zeros((100,))) for w in i.split()])/(len(i.split())+0.001)\n",
    "        else:\n",
    "            v = np.zeros((100,))\n",
    "        sentence_vectors.append(v)\n",
    "    return sentence_vectors"
   ]
  },
  {
   "cell_type": "markdown",
   "metadata": {},
   "source": [
    "## Train"
   ]
  },
  {
   "cell_type": "code",
   "execution_count": 8,
   "metadata": {},
   "outputs": [
    {
     "name": "stdout",
     "output_type": "stream",
     "text": [
      "File exists, loading from file\n",
      "\n",
      "Pickle already exists. Loading from file logistic_regression.pkl\n",
      "Correctly guessed: 97.30%\n",
      "Accuracy score:  0.9729805002844786\n",
      "File exists, loading from file\n",
      "\n",
      "Pickle already exists. Loading from file gaussian_naive_bayes.pkl\n",
      "Correctly guessed: 22.48%\n",
      "Accuracy score:  0.22484154740448084\n"
     ]
    }
   ],
   "source": [
    "from sklearn.model_selection import train_test_split\n",
    "from sklearn.naive_bayes import GaussianNB\n",
    "from sklearn.linear_model import LogisticRegression\n",
    "\n",
    "from sklearn.metrics import accuracy_score\n",
    "\n",
    "squadPath = '../data/squad-v1/'\n",
    "datasetFile = '../data/squad-v1/squad.csv'\n",
    "\n",
    "def getProcessedSquad():\n",
    "    df = getDf(squadPath)\n",
    "\n",
    "    file = Path(datasetFile)\n",
    "\n",
    "    if file.is_file():\n",
    "        print(\"File exists, loading from file\")\n",
    "        squad = pd.read_csv(datasetFile)\n",
    "    else:\n",
    "        print (\"File doesn't exist. Creating...\")\n",
    "        \n",
    "        words = []\n",
    "        wordColumns = ['text', 'isAnswer', 'titleId', 'paragraphId', 'sentenceId', 'wordCount', 'NER', 'POS', 'TAG', 'DEP', 'shape']\n",
    "        titlesCount = len(df['data'])\n",
    "        \n",
    "        count = 0\n",
    "        for titleId in range(titlesCount):\n",
    "            paragraphsCount = len(df['data'][titleId]['paragraphs'])\n",
    "            for paragraphId in range(paragraphsCount):\n",
    "                addWordsForParagraph(df, words, titleId, paragraphId)\n",
    "                count += 1\n",
    "                if (count%1000 == 0):\n",
    "                    print(count)\n",
    "                    \n",
    "        squad = pd.DataFrame(words, columns=wordColumns)\n",
    "        squad.to_csv(datasetFile, index=False)\n",
    "        print('100% done and written to file')\n",
    "\n",
    "    return squad\n",
    "\n",
    "def getDf(path):\n",
    "    train = pd.read_json(squadPath + 'train-v1.1.json', orient='column')\n",
    "    dev = pd.read_json(squadPath + 'dev-v1.1.json', orient='column')\n",
    "\n",
    "    return pd.concat([train, dev], ignore_index=True)\n",
    "\n",
    "def start(modelFile, classifier):\n",
    "    df = getProcessedSquad()\n",
    "    df = encodeAndDropColumns(df)\n",
    "\n",
    "    x_data = df.drop(labels=['isAnswer'], axis=1)\n",
    "    y_data = df['isAnswer']\n",
    "    x_train, x_test, y_train, y_test = train_test_split(x_data, y_data, test_size=0.2, random_state=4)\n",
    "    \n",
    "    if pickle_exists(modelFile):\n",
    "        print('\\nPickle already exists. Loading from file ' + modelFile + '.pkl')\n",
    "        model = load_model(modelFile)\n",
    "    else:\n",
    "        print('\\nNo pickle found. Training model and saving to file ' + modelFile + '.pkl')\n",
    "        model = classifier.fit(x_train, y_train)\n",
    "        save_model(model, modelFile)\n",
    "\n",
    "    y_pred = model.predict(x_test)\n",
    "    correctCount = (y_test == y_pred).sum()\n",
    "    print('Correctly guessed:', '{:.2f}%'.format((correctCount / len(y_test)) * 100))\n",
    "    print('Accuracy score: ', accuracy_score(y_test, y_pred))\n",
    "\n",
    "start('logistic_regression', LogisticRegression())\n",
    "start('gaussian_naive_bayes', GaussianNB())"
   ]
  },
  {
   "cell_type": "markdown",
   "metadata": {},
   "source": [
    "## Generate Questions"
   ]
  },
  {
   "cell_type": "code",
   "execution_count": 9,
   "metadata": {},
   "outputs": [],
   "source": [
    "models = ['gaussian_naive_bayes', 'logistic_regression']"
   ]
  },
  {
   "cell_type": "code",
   "execution_count": 10,
   "metadata": {},
   "outputs": [],
   "source": [
    "import random\n",
    "from IPython.display import Markdown, display\n",
    "\n",
    "def printmd(string):\n",
    "    display(Markdown(string))\n",
    "\n",
    "def generateQuestions(text, count):\n",
    "    # Extract words\n",
    "    text = rearrangeByRank(text)\n",
    "    df = generateDf(text)\n",
    "    wordsDf = prepareDf(df)\n",
    "\n",
    "    for model in models:\n",
    "        print(\"\\n#####################################\\n\")\n",
    "        print(model)\n",
    "        print(\"\\n#####################################\\n\")\n",
    "\n",
    "        # Predict\n",
    "        labeledAnswers = predictWords(wordsDf, df, model)\n",
    "\n",
    "        # Transform questions\n",
    "        qaPairs = addQuestions(labeledAnswers, text)\n",
    "\n",
    "        # Pick the best questions\n",
    "        orderedQaPairs = sortAnswers(qaPairs)\n",
    "\n",
    "        # Generate distractors\n",
    "        questions = addDistractors(orderedQaPairs[:count], 3)\n",
    "\n",
    "        # Print\n",
    "        print('Text:')\n",
    "        print(text + '\\n')\n",
    "        for index, question in enumerate(questions):\n",
    "            print('Question ' + str(index + 1) + ':')\n",
    "            print(question['question'])\n",
    "            \n",
    "            options = []\n",
    "            options.append('**'+question['answer']+'**')\n",
    "            options.extend(question['distractors'])\n",
    "            random.shuffle(options)\n",
    "\n",
    "            print()\n",
    "            for option in options:\n",
    "                printmd(option)\n",
    "            print()"
   ]
  },
  {
   "cell_type": "code",
   "execution_count": 11,
   "metadata": {},
   "outputs": [
    {
     "name": "stdout",
     "output_type": "stream",
     "text": [
      "\n",
      "#####################################\n",
      "\n",
      "gaussian_naive_bayes\n",
      "\n",
      "#####################################\n",
      "\n",
      "Text:\n",
      "Instead, they form a supercooled liquid, a metastable liquid phase that exists below the normal melting point. A cooling curve is not exactly the reverse of the heating curve because many liquids do not freeze at the expected temperature. The conversion of a solid to a liquid is called fusion (or melting). The energy required to melt 1 mol of a substance is its enthalpy of fusion (ΔHfus). Plots of the temperature of a substance versus heat added or versus heating time at a constant rate of heating are calledheating curves. All phase changes are accompanied by changes in the energy of a system. A superheated liquid, a liquid at a temperature and pressure at which it should be a gas, is not stable. Heating curves relate temperature changes to phase transitions. Changes from a less-ordered state to a more-ordered state (such as a liquid to a solid) are always exothermic. The direct conversion of a solid to a gas is sublimation.\n",
      "\n",
      "Question 1:\n",
      "Instead, they form a _____ liquid, a metastable liquid phase that exists below the normal melting point.\n",
      "\n"
     ]
    },
    {
     "data": {
      "text/markdown": [
       "droplets"
      ],
      "text/plain": [
       "<IPython.core.display.Markdown object>"
      ]
     },
     "metadata": {},
     "output_type": "display_data"
    },
    {
     "data": {
      "text/markdown": [
       "fluoridated"
      ],
      "text/plain": [
       "<IPython.core.display.Markdown object>"
      ]
     },
     "metadata": {},
     "output_type": "display_data"
    },
    {
     "data": {
      "text/markdown": [
       "**supercooled**"
      ],
      "text/plain": [
       "<IPython.core.display.Markdown object>"
      ]
     },
     "metadata": {},
     "output_type": "display_data"
    },
    {
     "data": {
      "text/markdown": [
       "ultrapure"
      ],
      "text/plain": [
       "<IPython.core.display.Markdown object>"
      ]
     },
     "metadata": {},
     "output_type": "display_data"
    },
    {
     "name": "stdout",
     "output_type": "stream",
     "text": [
      "\n",
      "Question 2:\n",
      "Instead, they form a supercooled liquid, a _____ liquid phase that exists below the normal melting point.\n",
      "\n"
     ]
    },
    {
     "data": {
      "text/markdown": [
       "single-domain"
      ],
      "text/plain": [
       "<IPython.core.display.Markdown object>"
      ]
     },
     "metadata": {},
     "output_type": "display_data"
    },
    {
     "data": {
      "text/markdown": [
       "non-finite"
      ],
      "text/plain": [
       "<IPython.core.display.Markdown object>"
      ]
     },
     "metadata": {},
     "output_type": "display_data"
    },
    {
     "data": {
      "text/markdown": [
       "monomeric"
      ],
      "text/plain": [
       "<IPython.core.display.Markdown object>"
      ]
     },
     "metadata": {},
     "output_type": "display_data"
    },
    {
     "data": {
      "text/markdown": [
       "**metastable**"
      ],
      "text/plain": [
       "<IPython.core.display.Markdown object>"
      ]
     },
     "metadata": {},
     "output_type": "display_data"
    },
    {
     "name": "stdout",
     "output_type": "stream",
     "text": [
      "\n",
      "Question 3:\n",
      "A cooling curve is not exactly the _____ of the heating curve because many liquids do not freeze at the expected temperature.\n",
      "\n"
     ]
    },
    {
     "data": {
      "text/markdown": [
       "**reverse**"
      ],
      "text/plain": [
       "<IPython.core.display.Markdown object>"
      ]
     },
     "metadata": {},
     "output_type": "display_data"
    },
    {
     "data": {
      "text/markdown": [
       "step"
      ],
      "text/plain": [
       "<IPython.core.display.Markdown object>"
      ]
     },
     "metadata": {},
     "output_type": "display_data"
    },
    {
     "data": {
      "text/markdown": [
       "slow"
      ],
      "text/plain": [
       "<IPython.core.display.Markdown object>"
      ]
     },
     "metadata": {},
     "output_type": "display_data"
    },
    {
     "data": {
      "text/markdown": [
       "change"
      ],
      "text/plain": [
       "<IPython.core.display.Markdown object>"
      ]
     },
     "metadata": {},
     "output_type": "display_data"
    },
    {
     "name": "stdout",
     "output_type": "stream",
     "text": [
      "\n",
      "Question 4:\n",
      "A cooling curve is not exactly the reverse of the _____ curve because many liquids do not freeze at the expected temperature.\n",
      "\n"
     ]
    },
    {
     "data": {
      "text/markdown": [
       "gasoline"
      ],
      "text/plain": [
       "<IPython.core.display.Markdown object>"
      ]
     },
     "metadata": {},
     "output_type": "display_data"
    },
    {
     "data": {
      "text/markdown": [
       "**heating**"
      ],
      "text/plain": [
       "<IPython.core.display.Markdown object>"
      ]
     },
     "metadata": {},
     "output_type": "display_data"
    },
    {
     "data": {
      "text/markdown": [
       "cooling"
      ],
      "text/plain": [
       "<IPython.core.display.Markdown object>"
      ]
     },
     "metadata": {},
     "output_type": "display_data"
    },
    {
     "data": {
      "text/markdown": [
       "electricity"
      ],
      "text/plain": [
       "<IPython.core.display.Markdown object>"
      ]
     },
     "metadata": {},
     "output_type": "display_data"
    },
    {
     "name": "stdout",
     "output_type": "stream",
     "text": [
      "\n",
      "\n",
      "#####################################\n",
      "\n",
      "logistic_regression\n",
      "\n",
      "#####################################\n",
      "\n",
      "Text:\n",
      "Instead, they form a supercooled liquid, a metastable liquid phase that exists below the normal melting point. A cooling curve is not exactly the reverse of the heating curve because many liquids do not freeze at the expected temperature. The conversion of a solid to a liquid is called fusion (or melting). The energy required to melt 1 mol of a substance is its enthalpy of fusion (ΔHfus). Plots of the temperature of a substance versus heat added or versus heating time at a constant rate of heating are calledheating curves. All phase changes are accompanied by changes in the energy of a system. A superheated liquid, a liquid at a temperature and pressure at which it should be a gas, is not stable. Heating curves relate temperature changes to phase transitions. Changes from a less-ordered state to a more-ordered state (such as a liquid to a solid) are always exothermic. The direct conversion of a solid to a gas is sublimation.\n",
      "\n",
      "Question 1:\n",
      "_____, they form a supercooled liquid, a metastable liquid phase that exists below the normal melting point.\n",
      "\n"
     ]
    },
    {
     "data": {
      "text/markdown": [
       "simply"
      ],
      "text/plain": [
       "<IPython.core.display.Markdown object>"
      ]
     },
     "metadata": {},
     "output_type": "display_data"
    },
    {
     "data": {
      "text/markdown": [
       "either"
      ],
      "text/plain": [
       "<IPython.core.display.Markdown object>"
      ]
     },
     "metadata": {},
     "output_type": "display_data"
    },
    {
     "data": {
      "text/markdown": [
       "**Instead**"
      ],
      "text/plain": [
       "<IPython.core.display.Markdown object>"
      ]
     },
     "metadata": {},
     "output_type": "display_data"
    },
    {
     "data": {
      "text/markdown": [
       "rather"
      ],
      "text/plain": [
       "<IPython.core.display.Markdown object>"
      ]
     },
     "metadata": {},
     "output_type": "display_data"
    },
    {
     "name": "stdout",
     "output_type": "stream",
     "text": [
      "\n",
      "Question 2:\n",
      "Instead, they form a _____ liquid, a metastable liquid phase that exists below the normal melting point.\n",
      "\n"
     ]
    },
    {
     "data": {
      "text/markdown": [
       "**supercooled**"
      ],
      "text/plain": [
       "<IPython.core.display.Markdown object>"
      ]
     },
     "metadata": {},
     "output_type": "display_data"
    },
    {
     "data": {
      "text/markdown": [
       "ultrapure"
      ],
      "text/plain": [
       "<IPython.core.display.Markdown object>"
      ]
     },
     "metadata": {},
     "output_type": "display_data"
    },
    {
     "data": {
      "text/markdown": [
       "droplets"
      ],
      "text/plain": [
       "<IPython.core.display.Markdown object>"
      ]
     },
     "metadata": {},
     "output_type": "display_data"
    },
    {
     "data": {
      "text/markdown": [
       "fluoridated"
      ],
      "text/plain": [
       "<IPython.core.display.Markdown object>"
      ]
     },
     "metadata": {},
     "output_type": "display_data"
    },
    {
     "name": "stdout",
     "output_type": "stream",
     "text": [
      "\n",
      "Question 3:\n",
      "Instead, they form a supercooled liquid, a _____ liquid phase that exists below the normal melting point.\n",
      "\n"
     ]
    },
    {
     "data": {
      "text/markdown": [
       "**metastable**"
      ],
      "text/plain": [
       "<IPython.core.display.Markdown object>"
      ]
     },
     "metadata": {},
     "output_type": "display_data"
    },
    {
     "data": {
      "text/markdown": [
       "monomeric"
      ],
      "text/plain": [
       "<IPython.core.display.Markdown object>"
      ]
     },
     "metadata": {},
     "output_type": "display_data"
    },
    {
     "data": {
      "text/markdown": [
       "non-finite"
      ],
      "text/plain": [
       "<IPython.core.display.Markdown object>"
      ]
     },
     "metadata": {},
     "output_type": "display_data"
    },
    {
     "data": {
      "text/markdown": [
       "single-domain"
      ],
      "text/plain": [
       "<IPython.core.display.Markdown object>"
      ]
     },
     "metadata": {},
     "output_type": "display_data"
    },
    {
     "name": "stdout",
     "output_type": "stream",
     "text": [
      "\n"
     ]
    }
   ],
   "source": [
    "text = \"Summary Changes of state are examples of phase changes, or phase transitions. All phase changes are accompanied by changes in the energy of a system. Changes from a more-ordered state to a less-ordered state (such as a liquid to a gas) areendothermic. Changes from a less-ordered state to a more-ordered state (such as a liquid to a solid) are always exothermic. The conversion of a solid to a liquid is called fusion (or melting). The energy required to melt 1 mol of a substance is its enthalpy of fusion (\\u0394Hfus). The energy change required to vaporize 1 mol of a substance is the enthalpy of vaporization (\\u0394Hvap). The direct conversion of a solid to a gas is sublimation. The amount of energy needed to sublime 1 mol of a substance is its enthalpy of sublimation (\\u0394Hsub) and is the sum of the enthalpies of fusion and vaporization. Plots of the temperature of a substance versus heat added or versus heating time at a constant rate of heating are calledheating curves. Heating curves relate temperature changes to phase transitions. A superheated liquid, a liquid at a temperature and pressure at which it should be a gas, is not stable. A cooling curve is not exactly the reverse of the heating curve because many liquids do not freeze at the expected temperature. Instead, they form a supercooled liquid, a metastable liquid phase that exists below the normal melting point. Supercooled liquids usually crystallize on standing, or adding a seed crystal of the same or another substance can induce crystallization.\"\n",
    "\n",
    "generateQuestions(text, 10)"
   ]
  },
  {
   "cell_type": "code",
   "execution_count": 12,
   "metadata": {},
   "outputs": [
    {
     "name": "stdout",
     "output_type": "stream",
     "text": [
      "\n",
      "#####################################\n",
      "\n",
      "gaussian_naive_bayes\n",
      "\n",
      "#####################################\n",
      "\n",
      "Text:\n",
      "For example, the rusting of underground iron storage tanks and pipes can be prevented or greatly reduced by connecting them to a more active metal such as zinc or magnesium (Figure 17.18). The more active metals (lower reduction potential) are called sacrificial anodes because as they get used up as they corrode (oxidize) at the anode. Thus, even if the zinc coating is scratched, the zinc will still oxidize before the iron. Since zinc has a lower reduction potential, it is a more active metal. Zinc-plated or galvanized iron uses a different strategy. This is also used to protect the metal parts in water heaters. For example, stainless steel is mostly iron with a bit of chromium. The layer of paint prevents the water and oxygen necessary for rust formation from coming into contact with the iron. The chromium tends to collect near the surface, where it forms an oxide layer that protects the iron. As long as the paint remains intact, the iron is protected from corrosion.\n",
      "\n",
      "Question 1:\n",
      "For _____, the rusting of underground iron storage tanks and pipes can be prevented or greatly reduced by connecting them to a more active metal such as zinc or magnesium (Figure 17.18).\n",
      "\n"
     ]
    },
    {
     "data": {
      "text/markdown": [
       "instance"
      ],
      "text/plain": [
       "<IPython.core.display.Markdown object>"
      ]
     },
     "metadata": {},
     "output_type": "display_data"
    },
    {
     "data": {
      "text/markdown": [
       "particular"
      ],
      "text/plain": [
       "<IPython.core.display.Markdown object>"
      ]
     },
     "metadata": {},
     "output_type": "display_data"
    },
    {
     "data": {
      "text/markdown": [
       "**example**"
      ],
      "text/plain": [
       "<IPython.core.display.Markdown object>"
      ]
     },
     "metadata": {},
     "output_type": "display_data"
    },
    {
     "data": {
      "text/markdown": [
       "fact"
      ],
      "text/plain": [
       "<IPython.core.display.Markdown object>"
      ]
     },
     "metadata": {},
     "output_type": "display_data"
    },
    {
     "name": "stdout",
     "output_type": "stream",
     "text": [
      "\n",
      "Question 2:\n",
      "For example, the rusting of underground _____ storage tanks and pipes can be prevented or greatly reduced by connecting them to a more active metal such as zinc or magnesium (Figure 17.18).\n",
      "\n"
     ]
    },
    {
     "data": {
      "text/markdown": [
       "**iron**"
      ],
      "text/plain": [
       "<IPython.core.display.Markdown object>"
      ]
     },
     "metadata": {},
     "output_type": "display_data"
    },
    {
     "data": {
      "text/markdown": [
       "metal"
      ],
      "text/plain": [
       "<IPython.core.display.Markdown object>"
      ]
     },
     "metadata": {},
     "output_type": "display_data"
    },
    {
     "data": {
      "text/markdown": [
       "copper"
      ],
      "text/plain": [
       "<IPython.core.display.Markdown object>"
      ]
     },
     "metadata": {},
     "output_type": "display_data"
    },
    {
     "data": {
      "text/markdown": [
       "steel"
      ],
      "text/plain": [
       "<IPython.core.display.Markdown object>"
      ]
     },
     "metadata": {},
     "output_type": "display_data"
    },
    {
     "name": "stdout",
     "output_type": "stream",
     "text": [
      "\n",
      "Question 3:\n",
      "For example, the rusting of underground iron _____ tanks and pipes can be prevented or greatly reduced by connecting them to a more active metal such as zinc or magnesium (Figure 17.18).\n",
      "\n"
     ]
    },
    {
     "data": {
      "text/markdown": [
       "stored"
      ],
      "text/plain": [
       "<IPython.core.display.Markdown object>"
      ]
     },
     "metadata": {},
     "output_type": "display_data"
    },
    {
     "data": {
      "text/markdown": [
       "**storage**"
      ],
      "text/plain": [
       "<IPython.core.display.Markdown object>"
      ]
     },
     "metadata": {},
     "output_type": "display_data"
    },
    {
     "data": {
      "text/markdown": [
       "equipment"
      ],
      "text/plain": [
       "<IPython.core.display.Markdown object>"
      ]
     },
     "metadata": {},
     "output_type": "display_data"
    },
    {
     "data": {
      "text/markdown": [
       "processing"
      ],
      "text/plain": [
       "<IPython.core.display.Markdown object>"
      ]
     },
     "metadata": {},
     "output_type": "display_data"
    },
    {
     "name": "stdout",
     "output_type": "stream",
     "text": [
      "\n",
      "Question 4:\n",
      "For example, the rusting of underground iron storage tanks and pipes can be prevented or greatly reduced by connecting them to a more _____ metal such as zinc or magnesium (Figure 17.18).\n",
      "\n"
     ]
    },
    {
     "data": {
      "text/markdown": [
       "primarily"
      ],
      "text/plain": [
       "<IPython.core.display.Markdown object>"
      ]
     },
     "metadata": {},
     "output_type": "display_data"
    },
    {
     "data": {
      "text/markdown": [
       "engaged"
      ],
      "text/plain": [
       "<IPython.core.display.Markdown object>"
      ]
     },
     "metadata": {},
     "output_type": "display_data"
    },
    {
     "data": {
      "text/markdown": [
       "**active**"
      ],
      "text/plain": [
       "<IPython.core.display.Markdown object>"
      ]
     },
     "metadata": {},
     "output_type": "display_data"
    },
    {
     "data": {
      "text/markdown": [
       "most"
      ],
      "text/plain": [
       "<IPython.core.display.Markdown object>"
      ]
     },
     "metadata": {},
     "output_type": "display_data"
    },
    {
     "name": "stdout",
     "output_type": "stream",
     "text": [
      "\n",
      "Question 5:\n",
      "For example, the rusting of underground iron storage tanks and pipes can be prevented or greatly reduced by connecting them to a more active _____ such as zinc or magnesium (Figure 17.18).\n",
      "\n"
     ]
    },
    {
     "data": {
      "text/markdown": [
       "plastic"
      ],
      "text/plain": [
       "<IPython.core.display.Markdown object>"
      ]
     },
     "metadata": {},
     "output_type": "display_data"
    },
    {
     "data": {
      "text/markdown": [
       "steel"
      ],
      "text/plain": [
       "<IPython.core.display.Markdown object>"
      ]
     },
     "metadata": {},
     "output_type": "display_data"
    },
    {
     "data": {
      "text/markdown": [
       "**metal**"
      ],
      "text/plain": [
       "<IPython.core.display.Markdown object>"
      ]
     },
     "metadata": {},
     "output_type": "display_data"
    },
    {
     "data": {
      "text/markdown": [
       "iron"
      ],
      "text/plain": [
       "<IPython.core.display.Markdown object>"
      ]
     },
     "metadata": {},
     "output_type": "display_data"
    },
    {
     "name": "stdout",
     "output_type": "stream",
     "text": [
      "\n",
      "Question 6:\n",
      "For example, the rusting of underground iron storage tanks and pipes can be prevented or greatly reduced by connecting them to a more active metal such as _____ or magnesium (Figure 17.18).\n",
      "\n"
     ]
    },
    {
     "data": {
      "text/markdown": [
       "**zinc**"
      ],
      "text/plain": [
       "<IPython.core.display.Markdown object>"
      ]
     },
     "metadata": {},
     "output_type": "display_data"
    },
    {
     "data": {
      "text/markdown": [
       "manganese"
      ],
      "text/plain": [
       "<IPython.core.display.Markdown object>"
      ]
     },
     "metadata": {},
     "output_type": "display_data"
    },
    {
     "data": {
      "text/markdown": [
       "aluminium"
      ],
      "text/plain": [
       "<IPython.core.display.Markdown object>"
      ]
     },
     "metadata": {},
     "output_type": "display_data"
    },
    {
     "data": {
      "text/markdown": [
       "copper"
      ],
      "text/plain": [
       "<IPython.core.display.Markdown object>"
      ]
     },
     "metadata": {},
     "output_type": "display_data"
    },
    {
     "name": "stdout",
     "output_type": "stream",
     "text": [
      "\n",
      "\n",
      "#####################################\n",
      "\n",
      "logistic_regression\n",
      "\n",
      "#####################################\n",
      "\n",
      "Text:\n",
      "For example, the rusting of underground iron storage tanks and pipes can be prevented or greatly reduced by connecting them to a more active metal such as zinc or magnesium (Figure 17.18). The more active metals (lower reduction potential) are called sacrificial anodes because as they get used up as they corrode (oxidize) at the anode. Thus, even if the zinc coating is scratched, the zinc will still oxidize before the iron. Since zinc has a lower reduction potential, it is a more active metal. Zinc-plated or galvanized iron uses a different strategy. This is also used to protect the metal parts in water heaters. For example, stainless steel is mostly iron with a bit of chromium. The layer of paint prevents the water and oxygen necessary for rust formation from coming into contact with the iron. The chromium tends to collect near the surface, where it forms an oxide layer that protects the iron. As long as the paint remains intact, the iron is protected from corrosion.\n",
      "\n",
      "Question 1:\n",
      "For _____, the rusting of underground iron storage tanks and pipes can be prevented or greatly reduced by connecting them to a more active metal such as zinc or magnesium (Figure 17.18).\n",
      "\n"
     ]
    },
    {
     "data": {
      "text/markdown": [
       "**example**"
      ],
      "text/plain": [
       "<IPython.core.display.Markdown object>"
      ]
     },
     "metadata": {},
     "output_type": "display_data"
    },
    {
     "data": {
      "text/markdown": [
       "fact"
      ],
      "text/plain": [
       "<IPython.core.display.Markdown object>"
      ]
     },
     "metadata": {},
     "output_type": "display_data"
    },
    {
     "data": {
      "text/markdown": [
       "instance"
      ],
      "text/plain": [
       "<IPython.core.display.Markdown object>"
      ]
     },
     "metadata": {},
     "output_type": "display_data"
    },
    {
     "data": {
      "text/markdown": [
       "particular"
      ],
      "text/plain": [
       "<IPython.core.display.Markdown object>"
      ]
     },
     "metadata": {},
     "output_type": "display_data"
    },
    {
     "name": "stdout",
     "output_type": "stream",
     "text": [
      "\n",
      "Question 2:\n",
      "For example, the rusting of underground _____ storage tanks and pipes can be prevented or greatly reduced by connecting them to a more active metal such as zinc or magnesium (Figure 17.18).\n",
      "\n"
     ]
    },
    {
     "data": {
      "text/markdown": [
       "copper"
      ],
      "text/plain": [
       "<IPython.core.display.Markdown object>"
      ]
     },
     "metadata": {},
     "output_type": "display_data"
    },
    {
     "data": {
      "text/markdown": [
       "steel"
      ],
      "text/plain": [
       "<IPython.core.display.Markdown object>"
      ]
     },
     "metadata": {},
     "output_type": "display_data"
    },
    {
     "data": {
      "text/markdown": [
       "metal"
      ],
      "text/plain": [
       "<IPython.core.display.Markdown object>"
      ]
     },
     "metadata": {},
     "output_type": "display_data"
    },
    {
     "data": {
      "text/markdown": [
       "**iron**"
      ],
      "text/plain": [
       "<IPython.core.display.Markdown object>"
      ]
     },
     "metadata": {},
     "output_type": "display_data"
    },
    {
     "name": "stdout",
     "output_type": "stream",
     "text": [
      "\n",
      "Question 3:\n",
      "For example, the rusting of underground iron _____ tanks and pipes can be prevented or greatly reduced by connecting them to a more active metal such as zinc or magnesium (Figure 17.18).\n",
      "\n"
     ]
    },
    {
     "data": {
      "text/markdown": [
       "**storage**"
      ],
      "text/plain": [
       "<IPython.core.display.Markdown object>"
      ]
     },
     "metadata": {},
     "output_type": "display_data"
    },
    {
     "data": {
      "text/markdown": [
       "stored"
      ],
      "text/plain": [
       "<IPython.core.display.Markdown object>"
      ]
     },
     "metadata": {},
     "output_type": "display_data"
    },
    {
     "data": {
      "text/markdown": [
       "processing"
      ],
      "text/plain": [
       "<IPython.core.display.Markdown object>"
      ]
     },
     "metadata": {},
     "output_type": "display_data"
    },
    {
     "data": {
      "text/markdown": [
       "equipment"
      ],
      "text/plain": [
       "<IPython.core.display.Markdown object>"
      ]
     },
     "metadata": {},
     "output_type": "display_data"
    },
    {
     "name": "stdout",
     "output_type": "stream",
     "text": [
      "\n",
      "Question 4:\n",
      "For example, the rusting of underground iron storage tanks and pipes can be prevented or _____ reduced by connecting them to a more active metal such as zinc or magnesium (Figure 17.18).\n",
      "\n"
     ]
    },
    {
     "data": {
      "text/markdown": [
       "substantially"
      ],
      "text/plain": [
       "<IPython.core.display.Markdown object>"
      ]
     },
     "metadata": {},
     "output_type": "display_data"
    },
    {
     "data": {
      "text/markdown": [
       "significantly"
      ],
      "text/plain": [
       "<IPython.core.display.Markdown object>"
      ]
     },
     "metadata": {},
     "output_type": "display_data"
    },
    {
     "data": {
      "text/markdown": [
       "**greatly**"
      ],
      "text/plain": [
       "<IPython.core.display.Markdown object>"
      ]
     },
     "metadata": {},
     "output_type": "display_data"
    },
    {
     "data": {
      "text/markdown": [
       "considerably"
      ],
      "text/plain": [
       "<IPython.core.display.Markdown object>"
      ]
     },
     "metadata": {},
     "output_type": "display_data"
    },
    {
     "name": "stdout",
     "output_type": "stream",
     "text": [
      "\n"
     ]
    }
   ],
   "source": [
    "text2 = \"One way to keep iron from corroding is to keep it painted. The layer of paint prevents the water and oxygen necessary for rust formation from coming into contact with the iron. As long as the paint remains intact, the iron is protected from corrosion. Other strategies include alloying the iron with other metals. For example, stainless steel is mostly iron with a bit of chromium. The chromium tends to collect near the surface, where it forms an oxide layer that protects the iron. Zinc-plated or galvanized iron uses a different strategy. Zinc is more easily oxidized than iron because zinc has a lower reduction potential. Since zinc has a lower reduction potential, it is a more active metal. Thus, even if the zinc coating is scratched, the zinc will still oxidize before the iron. This suggests that this approach should work with other active metals. Another important way to protect metal is to make it the cathode in a galvanic cell. This is cathodic protection and can be used for metals other than just iron. For example, the rusting of underground iron storage tanks and pipes can be prevented or greatly reduced by connecting them to a more active metal such as zinc or magnesium (Figure 17.18). This is also used to protect the metal parts in water heaters. The more active metals (lower reduction potential) are called sacrificial anodes because as they get used up as they corrode (oxidize) at the anode. The metal being protected serves as the cathode, and so does not oxidize (corrode). When the anodes are properly monitored and periodically replaced, the useful lifetime of the iron storage tank can be greatly extended.\"\n",
    "\n",
    "generateQuestions(text2, 10)"
   ]
  },
  {
   "cell_type": "code",
   "execution_count": 13,
   "metadata": {},
   "outputs": [
    {
     "name": "stdout",
     "output_type": "stream",
     "text": [
      "\n",
      "#####################################\n",
      "\n",
      "gaussian_naive_bayes\n",
      "\n",
      "#####################################\n",
      "\n",
      "Text:\n",
      "These ganglia are the cell bodies of neurons with axons that are sensory endings in the periphery, such as in the skin, and that extend into the CNS through the dorsal nerve root. Under microscopic inspection, it can be seen to include the cell bodies of the neurons, as well as bundles of fibers that are the posterior nerve root (Figure 13.19). The cells of the dorsal root ganglion are unipolar cells, classifying them by shape. Ganglia A ganglion is a group of neuron cell bodies in the periphery. The most common type of sensory ganglion is a dorsal (posterior) root ganglion. Ganglia can be categorized, for the most part, as either sensory ganglia or autonomic ganglia, referring to their primary functions. The ganglion is an enlargement of the nerve root. Also, the small round nuclei of satellite cells can be seen surrounding—as if they were orbiting—the neuron cell bodies.\n",
      "\n",
      "Question 1:\n",
      "These _____ are the cell bodies of neurons with axons that are sensory endings in the periphery, such as in the skin, and that extend into the CNS through the dorsal nerve root.\n",
      "\n"
     ]
    },
    {
     "data": {
      "text/markdown": [
       "trigeminal"
      ],
      "text/plain": [
       "<IPython.core.display.Markdown object>"
      ]
     },
     "metadata": {},
     "output_type": "display_data"
    },
    {
     "data": {
      "text/markdown": [
       "ganglion"
      ],
      "text/plain": [
       "<IPython.core.display.Markdown object>"
      ]
     },
     "metadata": {},
     "output_type": "display_data"
    },
    {
     "data": {
      "text/markdown": [
       "**ganglia**"
      ],
      "text/plain": [
       "<IPython.core.display.Markdown object>"
      ]
     },
     "metadata": {},
     "output_type": "display_data"
    },
    {
     "data": {
      "text/markdown": [
       "cerebellum"
      ],
      "text/plain": [
       "<IPython.core.display.Markdown object>"
      ]
     },
     "metadata": {},
     "output_type": "display_data"
    },
    {
     "name": "stdout",
     "output_type": "stream",
     "text": [
      "\n",
      "Question 2:\n",
      "These ganglia are the cell bodies of neurons with axons that are sensory endings in the _____, such as in the skin, and that extend into the CNS through the dorsal nerve root.\n",
      "\n"
     ]
    },
    {
     "data": {
      "text/markdown": [
       "fringes"
      ],
      "text/plain": [
       "<IPython.core.display.Markdown object>"
      ]
     },
     "metadata": {},
     "output_type": "display_data"
    },
    {
     "data": {
      "text/markdown": [
       "**periphery**"
      ],
      "text/plain": [
       "<IPython.core.display.Markdown object>"
      ]
     },
     "metadata": {},
     "output_type": "display_data"
    },
    {
     "data": {
      "text/markdown": [
       "outermost"
      ],
      "text/plain": [
       "<IPython.core.display.Markdown object>"
      ]
     },
     "metadata": {},
     "output_type": "display_data"
    },
    {
     "data": {
      "text/markdown": [
       "outer"
      ],
      "text/plain": [
       "<IPython.core.display.Markdown object>"
      ]
     },
     "metadata": {},
     "output_type": "display_data"
    },
    {
     "name": "stdout",
     "output_type": "stream",
     "text": [
      "\n",
      "Question 3:\n",
      "These ganglia are the cell bodies of neurons with axons that are sensory endings in the periphery, such as in the _____, and that extend into the CNS through the dorsal nerve root.\n",
      "\n"
     ]
    },
    {
     "data": {
      "text/markdown": [
       "tissue"
      ],
      "text/plain": [
       "<IPython.core.display.Markdown object>"
      ]
     },
     "metadata": {},
     "output_type": "display_data"
    },
    {
     "data": {
      "text/markdown": [
       "flesh"
      ],
      "text/plain": [
       "<IPython.core.display.Markdown object>"
      ]
     },
     "metadata": {},
     "output_type": "display_data"
    },
    {
     "data": {
      "text/markdown": [
       "**skin**"
      ],
      "text/plain": [
       "<IPython.core.display.Markdown object>"
      ]
     },
     "metadata": {},
     "output_type": "display_data"
    },
    {
     "data": {
      "text/markdown": [
       "hair"
      ],
      "text/plain": [
       "<IPython.core.display.Markdown object>"
      ]
     },
     "metadata": {},
     "output_type": "display_data"
    },
    {
     "name": "stdout",
     "output_type": "stream",
     "text": [
      "\n",
      "Question 4:\n",
      "These ganglia are the cell bodies of neurons with axons that are sensory endings in the periphery, such as in the skin, and that extend into the CNS through the _____ nerve root.\n",
      "\n"
     ]
    },
    {
     "data": {
      "text/markdown": [
       "ventral"
      ],
      "text/plain": [
       "<IPython.core.display.Markdown object>"
      ]
     },
     "metadata": {},
     "output_type": "display_data"
    },
    {
     "data": {
      "text/markdown": [
       "**dorsal**"
      ],
      "text/plain": [
       "<IPython.core.display.Markdown object>"
      ]
     },
     "metadata": {},
     "output_type": "display_data"
    },
    {
     "data": {
      "text/markdown": [
       "spines"
      ],
      "text/plain": [
       "<IPython.core.display.Markdown object>"
      ]
     },
     "metadata": {},
     "output_type": "display_data"
    },
    {
     "data": {
      "text/markdown": [
       "caudal"
      ],
      "text/plain": [
       "<IPython.core.display.Markdown object>"
      ]
     },
     "metadata": {},
     "output_type": "display_data"
    },
    {
     "name": "stdout",
     "output_type": "stream",
     "text": [
      "\n",
      "\n",
      "#####################################\n",
      "\n",
      "logistic_regression\n",
      "\n",
      "#####################################\n",
      "\n",
      "Text:\n",
      "These ganglia are the cell bodies of neurons with axons that are sensory endings in the periphery, such as in the skin, and that extend into the CNS through the dorsal nerve root. Under microscopic inspection, it can be seen to include the cell bodies of the neurons, as well as bundles of fibers that are the posterior nerve root (Figure 13.19). The cells of the dorsal root ganglion are unipolar cells, classifying them by shape. Ganglia A ganglion is a group of neuron cell bodies in the periphery. The most common type of sensory ganglion is a dorsal (posterior) root ganglion. Ganglia can be categorized, for the most part, as either sensory ganglia or autonomic ganglia, referring to their primary functions. The ganglion is an enlargement of the nerve root. Also, the small round nuclei of satellite cells can be seen surrounding—as if they were orbiting—the neuron cell bodies.\n",
      "\n",
      "Question 1:\n",
      "These _____ are the cell bodies of neurons with axons that are sensory endings in the periphery, such as in the skin, and that extend into the CNS through the dorsal nerve root.\n",
      "\n"
     ]
    },
    {
     "data": {
      "text/markdown": [
       "**ganglia**"
      ],
      "text/plain": [
       "<IPython.core.display.Markdown object>"
      ]
     },
     "metadata": {},
     "output_type": "display_data"
    },
    {
     "data": {
      "text/markdown": [
       "trigeminal"
      ],
      "text/plain": [
       "<IPython.core.display.Markdown object>"
      ]
     },
     "metadata": {},
     "output_type": "display_data"
    },
    {
     "data": {
      "text/markdown": [
       "cerebellum"
      ],
      "text/plain": [
       "<IPython.core.display.Markdown object>"
      ]
     },
     "metadata": {},
     "output_type": "display_data"
    },
    {
     "data": {
      "text/markdown": [
       "ganglion"
      ],
      "text/plain": [
       "<IPython.core.display.Markdown object>"
      ]
     },
     "metadata": {},
     "output_type": "display_data"
    },
    {
     "name": "stdout",
     "output_type": "stream",
     "text": [
      "\n",
      "Question 2:\n",
      "These ganglia are the cell bodies of neurons with axons that are _____ endings in the periphery, such as in the skin, and that extend into the CNS through the dorsal nerve root.\n",
      "\n"
     ]
    },
    {
     "data": {
      "text/markdown": [
       "**sensory**"
      ],
      "text/plain": [
       "<IPython.core.display.Markdown object>"
      ]
     },
     "metadata": {},
     "output_type": "display_data"
    },
    {
     "data": {
      "text/markdown": [
       "perceptual"
      ],
      "text/plain": [
       "<IPython.core.display.Markdown object>"
      ]
     },
     "metadata": {},
     "output_type": "display_data"
    },
    {
     "data": {
      "text/markdown": [
       "auditory"
      ],
      "text/plain": [
       "<IPython.core.display.Markdown object>"
      ]
     },
     "metadata": {},
     "output_type": "display_data"
    },
    {
     "data": {
      "text/markdown": [
       "olfactory"
      ],
      "text/plain": [
       "<IPython.core.display.Markdown object>"
      ]
     },
     "metadata": {},
     "output_type": "display_data"
    },
    {
     "name": "stdout",
     "output_type": "stream",
     "text": [
      "\n",
      "Question 3:\n",
      "These ganglia are the cell bodies of neurons with axons that are sensory _____ in the periphery, such as in the skin, and that extend into the CNS through the dorsal nerve root.\n",
      "\n"
     ]
    },
    {
     "data": {
      "text/markdown": [
       "sequels"
      ],
      "text/plain": [
       "<IPython.core.display.Markdown object>"
      ]
     },
     "metadata": {},
     "output_type": "display_data"
    },
    {
     "data": {
      "text/markdown": [
       "**endings**"
      ],
      "text/plain": [
       "<IPython.core.display.Markdown object>"
      ]
     },
     "metadata": {},
     "output_type": "display_data"
    },
    {
     "data": {
      "text/markdown": [
       "verb"
      ],
      "text/plain": [
       "<IPython.core.display.Markdown object>"
      ]
     },
     "metadata": {},
     "output_type": "display_data"
    },
    {
     "data": {
      "text/markdown": [
       "meanings"
      ],
      "text/plain": [
       "<IPython.core.display.Markdown object>"
      ]
     },
     "metadata": {},
     "output_type": "display_data"
    },
    {
     "name": "stdout",
     "output_type": "stream",
     "text": [
      "\n",
      "Question 4:\n",
      "These ganglia are the cell bodies of neurons with axons that are sensory endings in the _____, such as in the skin, and that extend into the CNS through the dorsal nerve root.\n",
      "\n"
     ]
    },
    {
     "data": {
      "text/markdown": [
       "outermost"
      ],
      "text/plain": [
       "<IPython.core.display.Markdown object>"
      ]
     },
     "metadata": {},
     "output_type": "display_data"
    },
    {
     "data": {
      "text/markdown": [
       "outer"
      ],
      "text/plain": [
       "<IPython.core.display.Markdown object>"
      ]
     },
     "metadata": {},
     "output_type": "display_data"
    },
    {
     "data": {
      "text/markdown": [
       "fringes"
      ],
      "text/plain": [
       "<IPython.core.display.Markdown object>"
      ]
     },
     "metadata": {},
     "output_type": "display_data"
    },
    {
     "data": {
      "text/markdown": [
       "**periphery**"
      ],
      "text/plain": [
       "<IPython.core.display.Markdown object>"
      ]
     },
     "metadata": {},
     "output_type": "display_data"
    },
    {
     "name": "stdout",
     "output_type": "stream",
     "text": [
      "\n",
      "Question 5:\n",
      "These ganglia are the cell bodies of neurons with axons that are sensory endings in the periphery, such as in the _____, and that extend into the CNS through the dorsal nerve root.\n",
      "\n"
     ]
    },
    {
     "data": {
      "text/markdown": [
       "hair"
      ],
      "text/plain": [
       "<IPython.core.display.Markdown object>"
      ]
     },
     "metadata": {},
     "output_type": "display_data"
    },
    {
     "data": {
      "text/markdown": [
       "tissue"
      ],
      "text/plain": [
       "<IPython.core.display.Markdown object>"
      ]
     },
     "metadata": {},
     "output_type": "display_data"
    },
    {
     "data": {
      "text/markdown": [
       "**skin**"
      ],
      "text/plain": [
       "<IPython.core.display.Markdown object>"
      ]
     },
     "metadata": {},
     "output_type": "display_data"
    },
    {
     "data": {
      "text/markdown": [
       "flesh"
      ],
      "text/plain": [
       "<IPython.core.display.Markdown object>"
      ]
     },
     "metadata": {},
     "output_type": "display_data"
    },
    {
     "name": "stdout",
     "output_type": "stream",
     "text": [
      "\n"
     ]
    }
   ],
   "source": [
    "text3 = \"Ganglia A ganglion is a group of neuron cell bodies in the periphery. Ganglia can be categorized, for the most part, as either sensory ganglia or autonomic ganglia, referring to their primary functions. The most common type of sensory ganglion is a dorsal (posterior) root ganglion. These ganglia are the cell bodies of neurons with axons that are sensory endings in the periphery, such as in the skin, and that extend into the CNS through the dorsal nerve root. The ganglion is an enlargement of the nerve root. Under microscopic inspection, it can be seen to include the cell bodies of the neurons, as well as bundles of fibers that are the posterior nerve root (Figure 13.19). The cells of the dorsal root ganglion are unipolar cells, classifying them by shape. Also, the small round nuclei of satellite cells can be seen surrounding\\u2014as if they were orbiting\\u2014the neuron cell bodies.\"\n",
    "\n",
    "generateQuestions(text3, 10)"
   ]
  }
 ],
 "metadata": {
  "kernelspec": {
   "display_name": "Python 3",
   "language": "python",
   "name": "python3"
  },
  "language_info": {
   "codemirror_mode": {
    "name": "ipython",
    "version": 3
   },
   "file_extension": ".py",
   "mimetype": "text/x-python",
   "name": "python",
   "nbconvert_exporter": "python",
   "pygments_lexer": "ipython3",
   "version": "3.6.10"
  }
 },
 "nbformat": 4,
 "nbformat_minor": 4
}
